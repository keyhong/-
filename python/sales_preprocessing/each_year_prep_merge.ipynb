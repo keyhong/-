{
 "cells": [
  {
   "cell_type": "code",
   "execution_count": null,
   "metadata": {},
   "outputs": [],
   "source": [
    "'''\n",
    "    품종을 전처리한 매출데이터를 모아서 한번에 csv로 저장하는 코드입니다 \n",
    "'''\n",
    "\n",
    "# 데이터 로딩 \n",
    "raw1 = pd.read_excel('./preprocessed_data/2015_전처리.xlsx', parse_dates=['매출일'])\n",
    "raw2 = pd.read_excel('./preprocessed_data/2016_전처리.xlsx', parse_dates=['매출일'])\n",
    "raw3 = pd.read_excel('./preprocessed_data/2017_전처리.xlsx', parse_dates=['매출일'])\n",
    "raw4 = pd.read_excel('./preprocessed_data/2018_전처리.xlsx', parse_dates=['매출일'])\n",
    "raw5 = pd.read_excel('./preprocessed_data/2019_전처리.xlsx', parse_dates=['매출일'])\n",
    "\n",
    "# 제거추가\n",
    "del_df = pd.read_excel('제거추가.xlsx')\n",
    "del_list = list(del_df['쌀'].values)\n",
    "\n",
    "raw = pd.concat([raw1, raw2, raw3, raw4, raw5]).drop('Unnamed: 0', axis=1)\n",
    "raw.reset_index(drop=True, inplace=True)\n",
    "raw.head()\n",
    "\n",
    "tmp = raw[raw['품종']=='잡곡']\n",
    "i = tmp[tmp['품목명'].isin(del_list)].index\n",
    "\n",
    "for num in range(len(i)):\n",
    "    raw.loc[i[num], '품종'] = '미곡'\n",
    "    \n",
    "raw = raw[~raw['품목명'].isin(['앵미1Kg'])]\n",
    "raw.to_csv('품목분류_매출데이터.csv', index=False, encoding='utf-8')"
   ]
  }
 ],
 "metadata": {
  "kernelspec": {
   "display_name": "Python 3.10.9 ('base')",
   "language": "python",
   "name": "python3"
  },
  "language_info": {
   "codemirror_mode": {
    "name": "ipython",
    "version": 3
   },
   "file_extension": ".py",
   "mimetype": "text/x-python",
   "name": "python",
   "nbconvert_exporter": "python",
   "pygments_lexer": "ipython3",
   "version": "3.10.9"
  },
  "vscode": {
   "interpreter": {
    "hash": "68d3b10d79c6e02d0d1f7bb5595fc6acdd9cd892dc842c813ff1c5403a22a80c"
   }
  }
 },
 "nbformat": 4,
 "nbformat_minor": 4
}
