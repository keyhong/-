{
 "cells": [
  {
   "cell_type": "code",
   "execution_count": 1,
   "metadata": {},
   "outputs": [],
   "source": [
    "import pandas as pd\n",
    "import numpy as np\n",
    "\n",
    "import seaborn as sns\n",
    "import matplotlib.pyplot as plt\n",
    "import matplotlib as mpl\n",
    "\n",
    "%matplotlib inline\n",
    "\n",
    "# 격자 스타일 적용\n",
    "plt.style.use('ggplot')\n",
    "\n",
    "# 마이너스 표시오류 방지\n",
    "mpl.rcParams['axes.unicode_minus'] = False\n",
    "\n",
    "# 한글 폰트 적용\n",
    "mpl.rcParams['font.family'] = 'Malgun Gothic'"
   ]
  },
  {
   "cell_type": "code",
   "execution_count": 2,
   "metadata": {},
   "outputs": [],
   "source": [
    "#데이터 불러오기\n",
    "raw1 = pd.read_excel('../매출전처리데이터/2015_전처리.xlsx', parse_dates=['매출일'])\n",
    "raw2 = pd.read_excel('../매출전처리데이터/2016_전처리.xlsx', parse_dates=['매출일'])\n",
    "raw3 = pd.read_excel('../매출전처리데이터/2017_전처리.xlsx', parse_dates=['매출일'])\n",
    "raw4 = pd.read_excel('../매출전처리데이터/2018_전처리.xlsx', parse_dates=['매출일'])\n",
    "raw5 = pd.read_excel('../매출전처리데이터/2019_전처리.xlsx', parse_dates=['매출일'])"
   ]
  },
  {
   "cell_type": "code",
   "execution_count": 3,
   "metadata": {},
   "outputs": [],
   "source": [
    "#각년도별 잡곡품목명을 잡곡별로 분류한 데이터 불러오기\n",
    "mxlst1 = pd.read_excel('../매출전처리데이터/15년 품목명 리스트_완.xlsx')\n",
    "mxlst2 = pd.read_excel('../매출전처리데이터/16년 품목명 리스트_완.xlsx')\n",
    "mxlst3 = pd.read_excel('../매출전처리데이터/17년 품목명 리스트_완.xlsx')\n",
    "mxlst4 = pd.read_excel('../매출전처리데이터/18년 품목명 리스트_완.xlsx')\n",
    "mxlst5 = pd.read_excel('../매출전처리데이터/19년 품목명 리스트_완.xlsx')"
   ]
  },
  {
   "cell_type": "code",
   "execution_count": 4,
   "metadata": {},
   "outputs": [],
   "source": [
    "#데이터 중 필요한 columns명만 가져오기\n",
    "data1 = raw1[['품목명', '규격명', '매출수량', '환산중량', '매출단가', '공급금액', '품종']]\n",
    "data2 = raw2[['품목명', '규격명', '매출수량', '환산중량', '매출단가', '공급금액', '품종']]\n",
    "data3 = raw3[['품목명', '규격명', '매출수량', '환산중량', '매출단가', '공급금액', '품종']]\n",
    "data4 = raw4[['품목명', '규격명', '매출수량', '환산중량', '매출단가', '공급금액', '품종']]\n",
    "data5 = raw5[['품목명', '규격명', '매출수량', '환산중량', '매출단가', '공급금액', '품종']]"
   ]
  },
  {
   "cell_type": "code",
   "execution_count": 5,
   "metadata": {},
   "outputs": [],
   "source": [
    "#환산중량과 공급금액에서 0초과의 값을 가진 행만 가져오기\n",
    "dt1 = data1[(data1.환산중량 > 0)&(data1.공급금액 > 0)].reset_index(drop = True)\n",
    "dt2 = data2[(data2.환산중량 > 0)&(data1.공급금액 > 0)].reset_index(drop = True)\n",
    "dt3 = data3[(data3.환산중량 > 0)&(data1.공급금액 > 0)].reset_index(drop = True)\n",
    "dt4 = data4[(data4.환산중량 > 0)&(data1.공급금액 > 0)].reset_index(drop = True)\n",
    "dt5 = data5[(data5.환산중량 > 0)&(data1.공급금액 > 0)].reset_index(drop = True)"
   ]
  },
  {
   "cell_type": "code",
   "execution_count": 6,
   "metadata": {
    "scrolled": true
   },
   "outputs": [],
   "source": [
    "#kg당 공급금액을 계산한 열 만들기\n",
    "dt1['kg공급금액'] = dt1['공급금액']/dt1['환산중량']\n",
    "dt2['kg공급금액'] = dt2['공급금액']/dt2['환산중량']\n",
    "dt3['kg공급금액'] = dt3['공급금액']/dt3['환산중량']\n",
    "dt4['kg공급금액'] = dt4['공급금액']/dt4['환산중량']\n",
    "dt5['kg공급금액'] = dt5['공급금액']/dt5['환산중량']"
   ]
  },
  {
   "cell_type": "code",
   "execution_count": 7,
   "metadata": {},
   "outputs": [],
   "source": [
    "#품목명으로 구분열 만들어주기\n",
    "\n",
    "def lstsort(df, lst):\n",
    "    \n",
    "    result_df = df.copy()\n",
    "    result_df['구분'] = np.nan\n",
    "    \n",
    "    for i in range(len(result_df)):\n",
    "\n",
    "        if result_df['품종'][i] == '미곡':\n",
    "            result_df['구분'][i] = '미곡'\n",
    "\n",
    "        else:\n",
    "            if result_df['품목명'][i] in list(lst.혼합):\n",
    "                result_df['구분'][i] = '혼합'\n",
    "            elif result_df['품목명'][i] in list(lst.흑미):\n",
    "                result_df['구분'][i] = '흑미'\n",
    "            elif result_df['품목명'][i] in list(lst.현미):\n",
    "                result_df['구분'][i] = '현미'\n",
    "            elif result_df['품목명'][i] in list(lst.보리):\n",
    "                result_df['구분'][i] = '보리'\n",
    "            elif result_df['품목명'][i] in list(lst.팥):\n",
    "                result_df['구분'][i] = '팥'\n",
    "            elif result_df['품목명'][i] in list(lst.콩):\n",
    "                result_df['구분'][i] = '콩'\n",
    "            elif result_df['품목명'][i] in list(lst.기장):\n",
    "                result_df['구분'][i] = '기장'\n",
    "            elif result_df['품목명'][i] in list(lst.귀리):\n",
    "                result_df['구분'][i] = '귀리'\n",
    "            elif result_df['품목명'][i] in list(lst.조):\n",
    "                result_df['구분'][i] = '조'\n",
    "            elif result_df['품목명'][i] in list(lst.수수):\n",
    "                result_df['구분'][i] = '수수'\n",
    "            elif result_df['품목명'][i] in list(lst.메밀):\n",
    "                result_df['구분'][i] = '메밀'\n",
    "            elif result_df['품목명'][i] in list(lst.율무):\n",
    "                result_df['구분'][i] = '율무'\n",
    "            else:\n",
    "                result_df['구분'][i] = '기타'\n",
    "                \n",
    "    return result_df\n"
   ]
  },
  {
   "cell_type": "code",
   "execution_count": 8,
   "metadata": {},
   "outputs": [
    {
     "name": "stderr",
     "output_type": "stream",
     "text": [
      "C:\\BigData\\anaconda3\\lib\\site-packages\\ipykernel_launcher.py:18: SettingWithCopyWarning: \n",
      "A value is trying to be set on a copy of a slice from a DataFrame\n",
      "\n",
      "See the caveats in the documentation: https://pandas.pydata.org/pandas-docs/stable/user_guide/indexing.html#returning-a-view-versus-a-copy\n",
      "C:\\BigData\\anaconda3\\lib\\site-packages\\pandas\\core\\indexing.py:670: SettingWithCopyWarning: \n",
      "A value is trying to be set on a copy of a slice from a DataFrame\n",
      "\n",
      "See the caveats in the documentation: https://pandas.pydata.org/pandas-docs/stable/user_guide/indexing.html#returning-a-view-versus-a-copy\n",
      "  self._setitem_with_indexer(indexer, value)\n",
      "C:\\BigData\\anaconda3\\lib\\site-packages\\ipykernel_launcher.py:40: SettingWithCopyWarning: \n",
      "A value is trying to be set on a copy of a slice from a DataFrame\n",
      "\n",
      "See the caveats in the documentation: https://pandas.pydata.org/pandas-docs/stable/user_guide/indexing.html#returning-a-view-versus-a-copy\n",
      "C:\\BigData\\anaconda3\\lib\\site-packages\\ipykernel_launcher.py:11: SettingWithCopyWarning: \n",
      "A value is trying to be set on a copy of a slice from a DataFrame\n",
      "\n",
      "See the caveats in the documentation: https://pandas.pydata.org/pandas-docs/stable/user_guide/indexing.html#returning-a-view-versus-a-copy\n",
      "  # This is added back by InteractiveShellApp.init_path()\n",
      "C:\\BigData\\anaconda3\\lib\\site-packages\\ipykernel_launcher.py:15: SettingWithCopyWarning: \n",
      "A value is trying to be set on a copy of a slice from a DataFrame\n",
      "\n",
      "See the caveats in the documentation: https://pandas.pydata.org/pandas-docs/stable/user_guide/indexing.html#returning-a-view-versus-a-copy\n",
      "  from ipykernel import kernelapp as app\n",
      "C:\\BigData\\anaconda3\\lib\\site-packages\\ipykernel_launcher.py:20: SettingWithCopyWarning: \n",
      "A value is trying to be set on a copy of a slice from a DataFrame\n",
      "\n",
      "See the caveats in the documentation: https://pandas.pydata.org/pandas-docs/stable/user_guide/indexing.html#returning-a-view-versus-a-copy\n",
      "C:\\BigData\\anaconda3\\lib\\site-packages\\ipykernel_launcher.py:32: SettingWithCopyWarning: \n",
      "A value is trying to be set on a copy of a slice from a DataFrame\n",
      "\n",
      "See the caveats in the documentation: https://pandas.pydata.org/pandas-docs/stable/user_guide/indexing.html#returning-a-view-versus-a-copy\n",
      "C:\\BigData\\anaconda3\\lib\\site-packages\\ipykernel_launcher.py:24: SettingWithCopyWarning: \n",
      "A value is trying to be set on a copy of a slice from a DataFrame\n",
      "\n",
      "See the caveats in the documentation: https://pandas.pydata.org/pandas-docs/stable/user_guide/indexing.html#returning-a-view-versus-a-copy\n",
      "C:\\BigData\\anaconda3\\lib\\site-packages\\ipykernel_launcher.py:34: SettingWithCopyWarning: \n",
      "A value is trying to be set on a copy of a slice from a DataFrame\n",
      "\n",
      "See the caveats in the documentation: https://pandas.pydata.org/pandas-docs/stable/user_guide/indexing.html#returning-a-view-versus-a-copy\n",
      "C:\\BigData\\anaconda3\\lib\\site-packages\\ipykernel_launcher.py:26: SettingWithCopyWarning: \n",
      "A value is trying to be set on a copy of a slice from a DataFrame\n",
      "\n",
      "See the caveats in the documentation: https://pandas.pydata.org/pandas-docs/stable/user_guide/indexing.html#returning-a-view-versus-a-copy\n",
      "C:\\BigData\\anaconda3\\lib\\site-packages\\ipykernel_launcher.py:22: SettingWithCopyWarning: \n",
      "A value is trying to be set on a copy of a slice from a DataFrame\n",
      "\n",
      "See the caveats in the documentation: https://pandas.pydata.org/pandas-docs/stable/user_guide/indexing.html#returning-a-view-versus-a-copy\n",
      "C:\\BigData\\anaconda3\\lib\\site-packages\\ipykernel_launcher.py:28: SettingWithCopyWarning: \n",
      "A value is trying to be set on a copy of a slice from a DataFrame\n",
      "\n",
      "See the caveats in the documentation: https://pandas.pydata.org/pandas-docs/stable/user_guide/indexing.html#returning-a-view-versus-a-copy\n",
      "C:\\BigData\\anaconda3\\lib\\site-packages\\ipykernel_launcher.py:38: SettingWithCopyWarning: \n",
      "A value is trying to be set on a copy of a slice from a DataFrame\n",
      "\n",
      "See the caveats in the documentation: https://pandas.pydata.org/pandas-docs/stable/user_guide/indexing.html#returning-a-view-versus-a-copy\n",
      "C:\\BigData\\anaconda3\\lib\\site-packages\\ipykernel_launcher.py:30: SettingWithCopyWarning: \n",
      "A value is trying to be set on a copy of a slice from a DataFrame\n",
      "\n",
      "See the caveats in the documentation: https://pandas.pydata.org/pandas-docs/stable/user_guide/indexing.html#returning-a-view-versus-a-copy\n",
      "C:\\BigData\\anaconda3\\lib\\site-packages\\ipykernel_launcher.py:36: SettingWithCopyWarning: \n",
      "A value is trying to be set on a copy of a slice from a DataFrame\n",
      "\n",
      "See the caveats in the documentation: https://pandas.pydata.org/pandas-docs/stable/user_guide/indexing.html#returning-a-view-versus-a-copy\n"
     ]
    }
   ],
   "source": [
    "# 위 코드 실행\n",
    "df1 = lstsort(dt1, mxlst1)\n",
    "df2 = lstsort(dt2, mxlst2)\n",
    "df3 = lstsort(dt3, mxlst3)\n",
    "df4 = lstsort(dt4, mxlst4)\n",
    "df5 = lstsort(dt5, mxlst5)"
   ]
  },
  {
   "cell_type": "code",
   "execution_count": 9,
   "metadata": {},
   "outputs": [],
   "source": [
    "#이상값 계산 함수\n",
    "def outliers_iqr(ys):\n",
    "    \n",
    "    quartile_1, quartile_3 = np.percentile(ys, [25, 75])\n",
    "    iqr = quartile_3 - quartile_1\n",
    "    lower_bound = quartile_1 - (iqr * 1.5)\n",
    "    upper_bound = quartile_3 + (iqr * 1.5)\n",
    "    a = np.where((ys > upper_bound) | (ys < lower_bound))\n",
    "    return a[0].tolist()"
   ]
  },
  {
   "cell_type": "code",
   "execution_count": 10,
   "metadata": {},
   "outputs": [],
   "source": [
    "#이상값 제거\n",
    "def outlierdrop(df, idx):\n",
    "    dividelst = list(set(df.구분))\n",
    "    dlst = []\n",
    "    outlierdrop1 = pd.DataFrame(columns = df.columns.values)\n",
    "\n",
    "    for i in range(len(dividelst)): #품목별로 이상치가 다르므로 품목별로 나누어 제거해줌.\n",
    "\n",
    "        temp = df[df['구분']==dividelst[i]]\n",
    "        temp.reset_index(drop=True, inplace=True)\n",
    "\n",
    "        dlst = outliers_iqr(df[df['구분']==dividelst[i]][idx])\n",
    "        tmp = temp.drop(dlst)\n",
    "        outlierdrop1 = outlierdrop1.append(tmp)\n",
    "    \n",
    "    return outlierdrop1"
   ]
  },
  {
   "cell_type": "code",
   "execution_count": 11,
   "metadata": {},
   "outputs": [],
   "source": [
    "#이상값 제거한 데이터 result로 저장\n",
    "result1 = outlierdrop(df1, 'kg공급금액')\n",
    "result2 = outlierdrop(df2, 'kg공급금액')\n",
    "result3 = outlierdrop(df3, 'kg공급금액')\n",
    "result4 = outlierdrop(df4, 'kg공급금액')\n",
    "result5 = outlierdrop(df5, 'kg공급금액')"
   ]
  },
  {
   "cell_type": "code",
   "execution_count": 12,
   "metadata": {},
   "outputs": [
    {
     "data": {
      "text/plain": [
       "<matplotlib.axes._subplots.AxesSubplot at 0x20b87ccee48>"
      ]
     },
     "execution_count": 12,
     "metadata": {},
     "output_type": "execute_result"
    },
    {
     "data": {
      "image/png": "[encoded data removed]",
      "text/plain": [
       "<Figure size 432x288 with 1 Axes>"
      ]
     },
     "metadata": {},
     "output_type": "display_data"
    }
   ],
   "source": [
    "result1.boxplot(column='kg공급금액', by='구분')"
   ]
  },
  {
   "cell_type": "code",
   "execution_count": 13,
   "metadata": {},
   "outputs": [
    {
     "data": {
      "text/plain": [
       "<matplotlib.axes._subplots.AxesSubplot at 0x20ba147dbc8>"
      ]
     },
     "execution_count": 13,
     "metadata": {},
     "output_type": "execute_result"
    },
    {
     "data": {
      "image/png": "[encoded data removed]",
      "text/plain": [
       "<Figure size 432x288 with 1 Axes>"
      ]
     },
     "metadata": {},
     "output_type": "display_data"
    }
   ],
   "source": [
    "result2.boxplot(column='kg공급금액', by='구분')"
   ]
  },
  {
   "cell_type": "code",
   "execution_count": 14,
   "metadata": {},
   "outputs": [
    {
     "data": {
      "text/plain": [
       "<matplotlib.axes._subplots.AxesSubplot at 0x20ba1fd4ec8>"
      ]
     },
     "execution_count": 14,
     "metadata": {},
     "output_type": "execute_result"
    },
    {
     "data": {
      "image/png": "[encoded data removed]",
      "text/plain": [
       "<Figure size 432x288 with 1 Axes>"
      ]
     },
     "metadata": {},
     "output_type": "display_data"
    }
   ],
   "source": [
    "result3.boxplot(column='kg공급금액', by='구분')"
   ]
  },
  {
   "cell_type": "code",
   "execution_count": 15,
   "metadata": {},
   "outputs": [
    {
     "data": {
      "text/plain": [
       "<matplotlib.axes._subplots.AxesSubplot at 0x20ba22db808>"
      ]
     },
     "execution_count": 15,
     "metadata": {},
     "output_type": "execute_result"
    },
    {
     "data": {
      "image/png": "[encoded data removed]",
      "text/plain": [
       "<Figure size 432x288 with 1 Axes>"
      ]
     },
     "metadata": {},
     "output_type": "display_data"
    }
   ],
   "source": [
    "result4.boxplot(column='kg공급금액', by='구분')"
   ]
  },
  {
   "cell_type": "code",
   "execution_count": 16,
   "metadata": {},
   "outputs": [
    {
     "data": {
      "text/plain": [
       "<matplotlib.axes._subplots.AxesSubplot at 0x20ba2512cc8>"
      ]
     },
     "execution_count": 16,
     "metadata": {},
     "output_type": "execute_result"
    },
    {
     "data": {
      "image/png": "[encoded data removed]",
      "text/plain": [
       "<Figure size 432x288 with 1 Axes>"
      ]
     },
     "metadata": {},
     "output_type": "display_data"
    }
   ],
   "source": [
    "result5.boxplot(column= 'kg공급금액', by='구분')"
   ]
  },
  {
   "cell_type": "code",
   "execution_count": 25,
   "metadata": {},
   "outputs": [
    {
     "data": {
      "text/html": [
       "<div>\n",
       "<style scoped>\n",
       "    .dataframe tbody tr th:only-of-type {\n",
       "        vertical-align: middle;\n",
       "    }\n",
       "\n",
       "    .dataframe tbody tr th {\n",
       "        vertical-align: top;\n",
       "    }\n",
       "\n",
       "    .dataframe thead th {\n",
       "        text-align: right;\n",
       "    }\n",
       "</style>\n",
       "<table border=\"1\" class=\"dataframe\">\n",
       "  <thead>\n",
       "    <tr style=\"text-align: right;\">\n",
       "      <th></th>\n",
       "      <th>2015</th>\n",
       "      <th>2016</th>\n",
       "      <th>2017</th>\n",
       "      <th>2018</th>\n",
       "      <th>2019</th>\n",
       "    </tr>\n",
       "  </thead>\n",
       "  <tbody>\n",
       "    <tr>\n",
       "      <th>귀리</th>\n",
       "      <td>NaN</td>\n",
       "      <td>NaN</td>\n",
       "      <td>NaN</td>\n",
       "      <td>NaN</td>\n",
       "      <td>NaN</td>\n",
       "    </tr>\n",
       "    <tr>\n",
       "      <th>기장</th>\n",
       "      <td>NaN</td>\n",
       "      <td>NaN</td>\n",
       "      <td>NaN</td>\n",
       "      <td>NaN</td>\n",
       "      <td>NaN</td>\n",
       "    </tr>\n",
       "    <tr>\n",
       "      <th>기타</th>\n",
       "      <td>NaN</td>\n",
       "      <td>NaN</td>\n",
       "      <td>NaN</td>\n",
       "      <td>NaN</td>\n",
       "      <td>NaN</td>\n",
       "    </tr>\n",
       "    <tr>\n",
       "      <th>메밀</th>\n",
       "      <td>NaN</td>\n",
       "      <td>NaN</td>\n",
       "      <td>NaN</td>\n",
       "      <td>NaN</td>\n",
       "      <td>NaN</td>\n",
       "    </tr>\n",
       "    <tr>\n",
       "      <th>미곡</th>\n",
       "      <td>NaN</td>\n",
       "      <td>NaN</td>\n",
       "      <td>NaN</td>\n",
       "      <td>NaN</td>\n",
       "      <td>NaN</td>\n",
       "    </tr>\n",
       "    <tr>\n",
       "      <th>보리</th>\n",
       "      <td>NaN</td>\n",
       "      <td>NaN</td>\n",
       "      <td>NaN</td>\n",
       "      <td>NaN</td>\n",
       "      <td>NaN</td>\n",
       "    </tr>\n",
       "    <tr>\n",
       "      <th>수수</th>\n",
       "      <td>NaN</td>\n",
       "      <td>NaN</td>\n",
       "      <td>NaN</td>\n",
       "      <td>NaN</td>\n",
       "      <td>NaN</td>\n",
       "    </tr>\n",
       "    <tr>\n",
       "      <th>율무</th>\n",
       "      <td>NaN</td>\n",
       "      <td>NaN</td>\n",
       "      <td>NaN</td>\n",
       "      <td>NaN</td>\n",
       "      <td>NaN</td>\n",
       "    </tr>\n",
       "    <tr>\n",
       "      <th>조</th>\n",
       "      <td>NaN</td>\n",
       "      <td>NaN</td>\n",
       "      <td>NaN</td>\n",
       "      <td>NaN</td>\n",
       "      <td>NaN</td>\n",
       "    </tr>\n",
       "    <tr>\n",
       "      <th>콩</th>\n",
       "      <td>NaN</td>\n",
       "      <td>NaN</td>\n",
       "      <td>NaN</td>\n",
       "      <td>NaN</td>\n",
       "      <td>NaN</td>\n",
       "    </tr>\n",
       "    <tr>\n",
       "      <th>팥</th>\n",
       "      <td>NaN</td>\n",
       "      <td>NaN</td>\n",
       "      <td>NaN</td>\n",
       "      <td>NaN</td>\n",
       "      <td>NaN</td>\n",
       "    </tr>\n",
       "    <tr>\n",
       "      <th>현미</th>\n",
       "      <td>NaN</td>\n",
       "      <td>NaN</td>\n",
       "      <td>NaN</td>\n",
       "      <td>NaN</td>\n",
       "      <td>NaN</td>\n",
       "    </tr>\n",
       "    <tr>\n",
       "      <th>혼합</th>\n",
       "      <td>NaN</td>\n",
       "      <td>NaN</td>\n",
       "      <td>NaN</td>\n",
       "      <td>NaN</td>\n",
       "      <td>NaN</td>\n",
       "    </tr>\n",
       "    <tr>\n",
       "      <th>흑미</th>\n",
       "      <td>NaN</td>\n",
       "      <td>NaN</td>\n",
       "      <td>NaN</td>\n",
       "      <td>NaN</td>\n",
       "      <td>NaN</td>\n",
       "    </tr>\n",
       "  </tbody>\n",
       "</table>\n",
       "</div>"
      ],
      "text/plain": [
       "   2015 2016 2017 2018 2019\n",
       "귀리  NaN  NaN  NaN  NaN  NaN\n",
       "기장  NaN  NaN  NaN  NaN  NaN\n",
       "기타  NaN  NaN  NaN  NaN  NaN\n",
       "메밀  NaN  NaN  NaN  NaN  NaN\n",
       "미곡  NaN  NaN  NaN  NaN  NaN\n",
       "보리  NaN  NaN  NaN  NaN  NaN\n",
       "수수  NaN  NaN  NaN  NaN  NaN\n",
       "율무  NaN  NaN  NaN  NaN  NaN\n",
       "조   NaN  NaN  NaN  NaN  NaN\n",
       "콩   NaN  NaN  NaN  NaN  NaN\n",
       "팥   NaN  NaN  NaN  NaN  NaN\n",
       "현미  NaN  NaN  NaN  NaN  NaN\n",
       "혼합  NaN  NaN  NaN  NaN  NaN\n",
       "흑미  NaN  NaN  NaN  NaN  NaN"
      ]
     },
     "execution_count": 25,
     "metadata": {},
     "output_type": "execute_result"
    }
   ],
   "source": [
    "#kg당 평균공급금액을 저장할 빈 데이터프레임 만들기\n",
    "result = pd.DataFrame(\n",
    "    index = ['귀리', '기장', '기타', '메밀', '미곡', '보리', '수수', '율무', '조', '콩', '팥', '현미', '혼합', '흑미'],\n",
    "    columns = ['2015', '2016', '2017', '2018', '2019']\n",
    ")\n",
    "result"
   ]
  },
  {
   "cell_type": "code",
   "execution_count": 28,
   "metadata": {},
   "outputs": [],
   "source": [
    "#데이터프레임으로 저장\n",
    "result['2015'] = result1.groupby('구분').mean()['kg공급금액']\n",
    "result['2016'] = result2.groupby('구분').mean()['kg공급금액']\n",
    "result['2017'] = result3.groupby('구분').mean()['kg공급금액']\n",
    "result['2018'] = result4.groupby('구분').mean()['kg공급금액']\n",
    "result['2019'] = result5.groupby('구분').mean()['kg공급금액']"
   ]
  },
  {
   "cell_type": "code",
   "execution_count": 30,
   "metadata": {},
   "outputs": [
    {
     "data": {
      "text/html": [
       "<div>\n",
       "<style scoped>\n",
       "    .dataframe tbody tr th:only-of-type {\n",
       "        vertical-align: middle;\n",
       "    }\n",
       "\n",
       "    .dataframe tbody tr th {\n",
       "        vertical-align: top;\n",
       "    }\n",
       "\n",
       "    .dataframe thead th {\n",
       "        text-align: right;\n",
       "    }\n",
       "</style>\n",
       "<table border=\"1\" class=\"dataframe\">\n",
       "  <thead>\n",
       "    <tr style=\"text-align: right;\">\n",
       "      <th></th>\n",
       "      <th>2015</th>\n",
       "      <th>2016</th>\n",
       "      <th>2017</th>\n",
       "      <th>2018</th>\n",
       "      <th>2019</th>\n",
       "    </tr>\n",
       "  </thead>\n",
       "  <tbody>\n",
       "    <tr>\n",
       "      <th>귀리</th>\n",
       "      <td>5.673926e+03</td>\n",
       "      <td>5610.286829</td>\n",
       "      <td>4892.366670</td>\n",
       "      <td>7748.044670</td>\n",
       "      <td>10733.897957</td>\n",
       "    </tr>\n",
       "    <tr>\n",
       "      <th>기장</th>\n",
       "      <td>9.417940e+03</td>\n",
       "      <td>9206.842069</td>\n",
       "      <td>8746.738715</td>\n",
       "      <td>9267.643570</td>\n",
       "      <td>11263.200582</td>\n",
       "    </tr>\n",
       "    <tr>\n",
       "      <th>메밀</th>\n",
       "      <td>2.210743e+06</td>\n",
       "      <td>16080.000000</td>\n",
       "      <td>16080.000000</td>\n",
       "      <td>16318.054054</td>\n",
       "      <td>16087.111111</td>\n",
       "    </tr>\n",
       "    <tr>\n",
       "      <th>미곡</th>\n",
       "      <td>2.710306e+03</td>\n",
       "      <td>2438.789648</td>\n",
       "      <td>2161.418944</td>\n",
       "      <td>2783.565176</td>\n",
       "      <td>3215.425779</td>\n",
       "    </tr>\n",
       "    <tr>\n",
       "      <th>보리</th>\n",
       "      <td>3.425050e+03</td>\n",
       "      <td>2596.606694</td>\n",
       "      <td>2731.082817</td>\n",
       "      <td>2916.737298</td>\n",
       "      <td>2537.380982</td>\n",
       "    </tr>\n",
       "    <tr>\n",
       "      <th>수수</th>\n",
       "      <td>7.548825e+03</td>\n",
       "      <td>5387.524516</td>\n",
       "      <td>4518.340353</td>\n",
       "      <td>8317.282949</td>\n",
       "      <td>9352.194709</td>\n",
       "    </tr>\n",
       "    <tr>\n",
       "      <th>율무</th>\n",
       "      <td>1.560308e+04</td>\n",
       "      <td>9544.161667</td>\n",
       "      <td>13183.963558</td>\n",
       "      <td>12265.031650</td>\n",
       "      <td>15086.221110</td>\n",
       "    </tr>\n",
       "    <tr>\n",
       "      <th>조</th>\n",
       "      <td>7.959581e+03</td>\n",
       "      <td>7448.575758</td>\n",
       "      <td>7451.989642</td>\n",
       "      <td>11177.657342</td>\n",
       "      <td>13423.091465</td>\n",
       "    </tr>\n",
       "    <tr>\n",
       "      <th>콩</th>\n",
       "      <td>7.814471e+03</td>\n",
       "      <td>7656.219430</td>\n",
       "      <td>10664.124849</td>\n",
       "      <td>12792.978807</td>\n",
       "      <td>13627.816560</td>\n",
       "    </tr>\n",
       "    <tr>\n",
       "      <th>팥</th>\n",
       "      <td>7.087453e+03</td>\n",
       "      <td>6736.009812</td>\n",
       "      <td>16927.816014</td>\n",
       "      <td>11803.777026</td>\n",
       "      <td>15006.529405</td>\n",
       "    </tr>\n",
       "    <tr>\n",
       "      <th>현미</th>\n",
       "      <td>3.161497e+03</td>\n",
       "      <td>2815.850164</td>\n",
       "      <td>2433.170140</td>\n",
       "      <td>3158.702684</td>\n",
       "      <td>3748.170913</td>\n",
       "    </tr>\n",
       "    <tr>\n",
       "      <th>혼합</th>\n",
       "      <td>6.035214e+03</td>\n",
       "      <td>5504.817735</td>\n",
       "      <td>5263.103509</td>\n",
       "      <td>5433.203077</td>\n",
       "      <td>6114.025111</td>\n",
       "    </tr>\n",
       "    <tr>\n",
       "      <th>흑미</th>\n",
       "      <td>3.907697e+03</td>\n",
       "      <td>3207.897962</td>\n",
       "      <td>2945.876945</td>\n",
       "      <td>3848.484605</td>\n",
       "      <td>4702.822664</td>\n",
       "    </tr>\n",
       "  </tbody>\n",
       "</table>\n",
       "</div>"
      ],
      "text/plain": [
       "            2015          2016          2017          2018          2019\n",
       "귀리  5.673926e+03   5610.286829   4892.366670   7748.044670  10733.897957\n",
       "기장  9.417940e+03   9206.842069   8746.738715   9267.643570  11263.200582\n",
       "메밀  2.210743e+06  16080.000000  16080.000000  16318.054054  16087.111111\n",
       "미곡  2.710306e+03   2438.789648   2161.418944   2783.565176   3215.425779\n",
       "보리  3.425050e+03   2596.606694   2731.082817   2916.737298   2537.380982\n",
       "수수  7.548825e+03   5387.524516   4518.340353   8317.282949   9352.194709\n",
       "율무  1.560308e+04   9544.161667  13183.963558  12265.031650  15086.221110\n",
       "조   7.959581e+03   7448.575758   7451.989642  11177.657342  13423.091465\n",
       "콩   7.814471e+03   7656.219430  10664.124849  12792.978807  13627.816560\n",
       "팥   7.087453e+03   6736.009812  16927.816014  11803.777026  15006.529405\n",
       "현미  3.161497e+03   2815.850164   2433.170140   3158.702684   3748.170913\n",
       "혼합  6.035214e+03   5504.817735   5263.103509   5433.203077   6114.025111\n",
       "흑미  3.907697e+03   3207.897962   2945.876945   3848.484605   4702.822664"
      ]
     },
     "execution_count": 30,
     "metadata": {},
     "output_type": "execute_result"
    }
   ],
   "source": [
    "#기타행 제거 후 확인\n",
    "result = result.drop('기타', axis=0)\n",
    "result"
   ]
  },
  {
   "cell_type": "code",
   "execution_count": 31,
   "metadata": {},
   "outputs": [
    {
     "data": {
      "text/html": [
       "<div>\n",
       "<style scoped>\n",
       "    .dataframe tbody tr th:only-of-type {\n",
       "        vertical-align: middle;\n",
       "    }\n",
       "\n",
       "    .dataframe tbody tr th {\n",
       "        vertical-align: top;\n",
       "    }\n",
       "\n",
       "    .dataframe thead th {\n",
       "        text-align: right;\n",
       "    }\n",
       "</style>\n",
       "<table border=\"1\" class=\"dataframe\">\n",
       "  <thead>\n",
       "    <tr style=\"text-align: right;\">\n",
       "      <th></th>\n",
       "      <th>2015</th>\n",
       "      <th>2016</th>\n",
       "      <th>2017</th>\n",
       "      <th>2018</th>\n",
       "      <th>2019</th>\n",
       "    </tr>\n",
       "  </thead>\n",
       "  <tbody>\n",
       "    <tr>\n",
       "      <th>귀리</th>\n",
       "      <td>5673.925765</td>\n",
       "      <td>5610.286829</td>\n",
       "      <td>4892.366670</td>\n",
       "      <td>7748.044670</td>\n",
       "      <td>10733.897957</td>\n",
       "    </tr>\n",
       "    <tr>\n",
       "      <th>기장</th>\n",
       "      <td>9417.939892</td>\n",
       "      <td>9206.842069</td>\n",
       "      <td>8746.738715</td>\n",
       "      <td>9267.643570</td>\n",
       "      <td>11263.200582</td>\n",
       "    </tr>\n",
       "    <tr>\n",
       "      <th>메밀</th>\n",
       "      <td>16141.291291</td>\n",
       "      <td>16080.000000</td>\n",
       "      <td>16080.000000</td>\n",
       "      <td>16318.054054</td>\n",
       "      <td>16087.111111</td>\n",
       "    </tr>\n",
       "    <tr>\n",
       "      <th>미곡</th>\n",
       "      <td>2710.305625</td>\n",
       "      <td>2438.789648</td>\n",
       "      <td>2161.418944</td>\n",
       "      <td>2783.565176</td>\n",
       "      <td>3215.425779</td>\n",
       "    </tr>\n",
       "    <tr>\n",
       "      <th>보리</th>\n",
       "      <td>3425.049662</td>\n",
       "      <td>2596.606694</td>\n",
       "      <td>2731.082817</td>\n",
       "      <td>2916.737298</td>\n",
       "      <td>2537.380982</td>\n",
       "    </tr>\n",
       "    <tr>\n",
       "      <th>수수</th>\n",
       "      <td>7548.824879</td>\n",
       "      <td>5387.524516</td>\n",
       "      <td>4518.340353</td>\n",
       "      <td>8317.282949</td>\n",
       "      <td>9352.194709</td>\n",
       "    </tr>\n",
       "    <tr>\n",
       "      <th>율무</th>\n",
       "      <td>15603.081232</td>\n",
       "      <td>9544.161667</td>\n",
       "      <td>13183.963558</td>\n",
       "      <td>12265.031650</td>\n",
       "      <td>15086.221110</td>\n",
       "    </tr>\n",
       "    <tr>\n",
       "      <th>조</th>\n",
       "      <td>7959.580761</td>\n",
       "      <td>7448.575758</td>\n",
       "      <td>7451.989642</td>\n",
       "      <td>11177.657342</td>\n",
       "      <td>13423.091465</td>\n",
       "    </tr>\n",
       "    <tr>\n",
       "      <th>콩</th>\n",
       "      <td>7814.471300</td>\n",
       "      <td>7656.219430</td>\n",
       "      <td>10664.124849</td>\n",
       "      <td>12792.978807</td>\n",
       "      <td>13627.816560</td>\n",
       "    </tr>\n",
       "    <tr>\n",
       "      <th>팥</th>\n",
       "      <td>7087.452712</td>\n",
       "      <td>6736.009812</td>\n",
       "      <td>16927.816014</td>\n",
       "      <td>11803.777026</td>\n",
       "      <td>15006.529405</td>\n",
       "    </tr>\n",
       "    <tr>\n",
       "      <th>현미</th>\n",
       "      <td>3161.497411</td>\n",
       "      <td>2815.850164</td>\n",
       "      <td>2433.170140</td>\n",
       "      <td>3158.702684</td>\n",
       "      <td>3748.170913</td>\n",
       "    </tr>\n",
       "    <tr>\n",
       "      <th>혼합</th>\n",
       "      <td>6035.213845</td>\n",
       "      <td>5504.817735</td>\n",
       "      <td>5263.103509</td>\n",
       "      <td>5433.203077</td>\n",
       "      <td>6114.025111</td>\n",
       "    </tr>\n",
       "    <tr>\n",
       "      <th>흑미</th>\n",
       "      <td>3907.696628</td>\n",
       "      <td>3207.897962</td>\n",
       "      <td>2945.876945</td>\n",
       "      <td>3848.484605</td>\n",
       "      <td>4702.822664</td>\n",
       "    </tr>\n",
       "  </tbody>\n",
       "</table>\n",
       "</div>"
      ],
      "text/plain": [
       "            2015          2016          2017          2018          2019\n",
       "귀리   5673.925765   5610.286829   4892.366670   7748.044670  10733.897957\n",
       "기장   9417.939892   9206.842069   8746.738715   9267.643570  11263.200582\n",
       "메밀  16141.291291  16080.000000  16080.000000  16318.054054  16087.111111\n",
       "미곡   2710.305625   2438.789648   2161.418944   2783.565176   3215.425779\n",
       "보리   3425.049662   2596.606694   2731.082817   2916.737298   2537.380982\n",
       "수수   7548.824879   5387.524516   4518.340353   8317.282949   9352.194709\n",
       "율무  15603.081232   9544.161667  13183.963558  12265.031650  15086.221110\n",
       "조    7959.580761   7448.575758   7451.989642  11177.657342  13423.091465\n",
       "콩    7814.471300   7656.219430  10664.124849  12792.978807  13627.816560\n",
       "팥    7087.452712   6736.009812  16927.816014  11803.777026  15006.529405\n",
       "현미   3161.497411   2815.850164   2433.170140   3158.702684   3748.170913\n",
       "혼합   6035.213845   5504.817735   5263.103509   5433.203077   6114.025111\n",
       "흑미   3907.696628   3207.897962   2945.876945   3848.484605   4702.822664"
      ]
     },
     "execution_count": 31,
     "metadata": {},
     "output_type": "execute_result"
    }
   ],
   "source": [
    "#2015년 메밀값이 이상하다고 판단되어 다른년도 평균값으로 대체\n",
    "result['2015'][2] = (result['2016'][2] + result['2017'][2] + result['2018'][2] + result['2019'][2]) / 4\n",
    "result"
   ]
  },
  {
   "cell_type": "code",
   "execution_count": 36,
   "metadata": {},
   "outputs": [],
   "source": [
    "# import pickle\n",
    "\n",
    "# result.to_pickle('년도별공급금액평균')"
   ]
  },
  {
   "cell_type": "code",
   "execution_count": 35,
   "metadata": {},
   "outputs": [
    {
     "data": {
      "image/png": "[encoded data removed]",
      "text/plain": [
       "<Figure size 1008x432 with 1 Axes>"
      ]
     },
     "metadata": {},
     "output_type": "display_data"
    }
   ],
   "source": [
    "#막대그래프로 만들기\n",
    "font1 = {\n",
    "    'family': 'serif',\n",
    "    'color': 'black',\n",
    "    'weight': 'normal',\n",
    "    'size': 12\n",
    "}\n",
    "\n",
    "fin = result.plot.bar(figsize=(14, 6), title='잡곡의 년도별 평균가격')\n",
    "plt.xticks(rotation=0)\n",
    "\n",
    "#5개년 평균가격 텍스트로 나타내기.\n",
    "plt.text(-0.3, 11111, '6931', fontdict=font1)\n",
    "plt.text(0.7, 12111,'9580', fontdict=font1)\n",
    "plt.text(1.6, 16311,'16141', fontdict=font1)\n",
    "plt.text(2.7, 3111,'2661', fontdict=font1)\n",
    "plt.text(3.7, 3911,'2841', fontdict=font1)\n",
    "plt.text(4.7, 9111,'7024', fontdict=font1)\n",
    "plt.text(5.7, 16111,'13136', fontdict=font1)\n",
    "plt.text(6.7, 13111,'9492', fontdict=font1)\n",
    "plt.text(7.7, 13111,'10511', fontdict=font1)\n",
    "plt.text(8.7, 15111,'11512', fontdict=font1)\n",
    "plt.text(9.7, 3711,'3063', fontdict=font1)\n",
    "plt.text(10.7, 6711,'5670', fontdict=font1)\n",
    "plt.text(11.7, 5011,'3722', fontdict=font1)\n",
    "\n",
    "\n",
    "# plt.show()\n",
    "plt.savefig('잡곡가격')"
   ]
  },
  {
   "cell_type": "code",
   "execution_count": 33,
   "metadata": {},
   "outputs": [
    {
     "data": {
      "text/plain": [
       "[6931.704378191273,\n",
       " 9580.472965701536,\n",
       " 16141.29129129129,\n",
       " 2661.9010342516826,\n",
       " 2841.3714903675423,\n",
       " 7024.833481351445,\n",
       " 13136.491843552023,\n",
       " 9492.178993411957,\n",
       " 10511.122189056938,\n",
       " 11512.31699384097,\n",
       " 3063.4782625554153,\n",
       " 5670.072655519642,\n",
       " 3722.5557610157293]"
      ]
     },
     "execution_count": 33,
     "metadata": {},
     "output_type": "execute_result"
    }
   ],
   "source": [
    "#평균가격..ㅎㅎ\n",
    "result.mean(axis=1).tolist()"
   ]
  }
 ],
 "metadata": {
  "kernelspec": {
   "display_name": "Python 3",
   "language": "python",
   "name": "python3"
  },
  "language_info": {
   "codemirror_mode": {
    "name": "ipython",
    "version": 3
   },
   "file_extension": ".py",
   "mimetype": "text/x-python",
   "name": "python",
   "nbconvert_exporter": "python",
   "pygments_lexer": "ipython3",
   "version": "3.7.6"
  }
 },
 "nbformat": 4,
 "nbformat_minor": 4
}
