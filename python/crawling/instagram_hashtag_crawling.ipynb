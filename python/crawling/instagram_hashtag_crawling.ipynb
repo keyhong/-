{
 "cells": [
  {
   "cell_type": "code",
   "execution_count": null,
   "metadata": {
    "scrolled": true
   },
   "outputs": [],
   "source": [
    "# pip install selenium"
   ]
  },
  {
   "cell_type": "code",
   "execution_count": 1,
   "metadata": {},
   "outputs": [],
   "source": [
    "import requests\n",
    "from bs4 import BeautifulSoup\n",
    "from urllib.request import urlopen, Request\n",
    "from selenium import webdriver\n",
    "from tqdm import tqdm\n",
    "from konlpy.tag import Twitter\n",
    "from collections import Counter\n",
    "import pandas as pd\n",
    "import numpy as np\n",
    "import time\n",
    "import re\n",
    "\n",
    "from wordcloud import WordCloud\n",
    "import nltk\n",
    "from nltk.corpus import stopwords\n",
    "import matplotlib.pyplot as plt\n",
    "from IPython.display import set_matplotlib_formats"
   ]
  },
  {
   "cell_type": "code",
   "execution_count": 2,
   "metadata": {},
   "outputs": [
    {
     "ename": "SyntaxError",
     "evalue": "invalid syntax (<ipython-input-2-390ab89e8be5>, line 16)",
     "output_type": "error",
     "traceback": [
      "\u001b[1;36m  File \u001b[1;32m\"<ipython-input-2-390ab89e8be5>\"\u001b[1;36m, line \u001b[1;32m16\u001b[0m\n\u001b[1;33m    instagram_id =\u001b[0m\n\u001b[1;37m                   ^\u001b[0m\n\u001b[1;31mSyntaxError\u001b[0m\u001b[1;31m:\u001b[0m invalid syntax\n"
     ]
    }
   ],
   "source": [
    "def get_crawl(keyword, len_crawling):\n",
    "\n",
    "    # url 열기\n",
    "    url = \"https://www.instagram.com/explore/tags/{}/\".format(keyword)\n",
    "\n",
    "    chrome_driver_path = \"./chromedriver\"\n",
    "    driver = webdriver.Chrome(chrome_driver_path)\n",
    "    driver.get(url)\n",
    "    time.sleep(3)\n",
    "\n",
    "    login_section = '//*[@id=\"react-root\"]/section/nav/div[2]/div/div/div[3]/div/span/a[1]/button'\n",
    "    driver.find_element_by_xpath(login_section).click()\n",
    "    time.sleep(1)\n",
    "\n",
    "    # 인스타그램 아이디 / 비밀번호ㅍ(입력요구)\n",
    "    instagram_id = \n",
    "    instagram_pw = \n",
    "\n",
    "    elem_login = driver.find_element_by_name(\"username\")\n",
    "    elem_login.clear()\n",
    "    elem_login.send_keys(instagram_id)\n",
    "\n",
    "    elem_login = driver.find_element_by_name('password')\n",
    "    elem_login.clear()\n",
    "    elem_login.send_keys(instagram_pw)\n",
    "\n",
    "    time.sleep(1)\n",
    "\n",
    "    xpath = '/html/body/div[1]/section/main/div/article/div/div[1]/div/form/div/div[3]/button/div'\n",
    "    driver.find_element_by_xpath(xpath).click()\n",
    "    time.sleep(3)\n",
    "\n",
    "    driver.find_element_by_xpath('//*[@id=\"react-root\"]/section/main/div/div/div/div/button').click()\n",
    "    time.sleep(5)\n",
    "\n",
    "    # //*[@id=\"react-root\"]/section/main/article/div[1]/div/div/div[1]/div[1]/a/div[1]/div[2]\n",
    "    # /html/body/div[1]/section/main/article/div[1]/div/div/div[1]/div[1]/a/div[1]/div[2]\n",
    "\n",
    "    driver.find_element_by_xpath('/html/body/div[1]/section/main/article/div[1]/div/div/div[1]/div[1]/a/div[1]/div[2]').click()\n",
    "\n",
    "    # len_crawling = 15000\n",
    "    print('총 {0}개의 데이터를 수집합니다.'.format(len_crawling))\n",
    "\n",
    "    # 해쉬태그를 담을 리스트 \n",
    "    csvtext = []\n",
    "    time.sleep(2)\n",
    "\n",
    "    for i in tqdm(range(len_crawling)):\n",
    "\n",
    "        try:\n",
    "            time.sleep(0.5)\n",
    "            url = driver.current_url\n",
    "\n",
    "            csvtext.append([])\n",
    "\n",
    "            webpage = urlopen(url).read()\n",
    "\n",
    "            soup = BeautifulSoup(webpage, 'lxml', from_encoding='utf-8')\n",
    "            \n",
    "            # 아이디 크롤링\n",
    "            soup1 = soup.find('meta', attrs={'property':\"og:description\"})\n",
    "\n",
    "            reallink1 = soup1['content']\n",
    "            reallink1 = reallink1[reallink1.find(\"@\") + 1:reallink1.find(\")\")]\n",
    "            reallink1 = reallink1[:20]\n",
    "\n",
    "            if reallink1 == '':\n",
    "                reallink1 = \"Null\"\n",
    "            csvtext[i].append(reallink1)\n",
    "\n",
    "            # 해쉬태그 크롤링\n",
    "            for reallink2 in soup.find_all('meta', attrs={'property':\"instapp:hashtags\"}):\n",
    "\n",
    "                hashtags = reallink2['content'].rstrip(',')\n",
    "                csvtext[i].append(hashtags)\n",
    "\n",
    "            if i == 0:\n",
    "                next_path = '/html/body/div[4]/div[1]/div/div/a'\n",
    "            else:\n",
    "                next_path = '/html/body/div[4]/div[1]/div/div/a[2]'\n",
    "\n",
    "            driver.find_element_by_xpath(next_path).click()\n",
    "\n",
    "        except:\n",
    "            time.sleep(3)\n",
    "            driver.find_element_by_xpath(next_path).click()\n",
    "    \n",
    "    \n",
    "    return csvtext"
   ]
  },
  {
   "cell_type": "code",
   "execution_count": null,
   "metadata": {},
   "outputs": [],
   "source": [
    "if __name__ == '__main__':\n",
    "    csvtext = get_crawl('현미밥', 3000)"
   ]
  },
  {
   "cell_type": "code",
   "execution_count": null,
   "metadata": {},
   "outputs": [],
   "source": [
    "csvtext"
   ]
  },
  {
   "cell_type": "code",
   "execution_count": null,
   "metadata": {
    "scrolled": true
   },
   "outputs": [],
   "source": [
    "# csv로 저장\n",
    "data = pd.DataFrame(csvtext)\n",
    "data.to_csv('#잡곡밥_crawling.txt', encoding='utf-8')\n",
    "\n",
    "driver.close()"
   ]
  },
  {
   "cell_type": "code",
   "execution_count": 3,
   "metadata": {
    "scrolled": true
   },
   "outputs": [],
   "source": [
    "'''\n",
    "    쌀 해시태그 크롤링 데이터 추가 전처리 및 저장\n",
    "        1. 사용자 아이디 열 제거\n",
    "        2. 결측치 데이터 제거 \n",
    "'''\n",
    "insta_data = pd.read_csv('./insta.txt')\n",
    "insta_data.drop(['Unnamed: 0', '0'], axis='columns', inplace=True)\n",
    "\n",
    "# 데이터 전체가 결측치인 행 제거\n",
    "insta_data = insta_data.dropna(how='all')\n",
    "insta_data = insta_data.reset_index(drop=True)\n",
    "\n",
    "# 결측치, 이상치 단어행 제거\n",
    "drop_list = ['강아지', '비숑', '비숑', '포메라니안', '멍스타그램', '독스타그램', '울산좋은쌀파는곳', '고양이', '고양이스타그램'\n",
    "            , '문호리리버마켓', '자라섬리버마켓', '곤지암리버마켓' '리버마켓', '나는리버마켓셀러다']\n",
    "\n",
    "for i in range(30):\n",
    "    indexStr = str(i+1)\n",
    "    insta_data = insta_data[~insta_data[indexStr].isin(drop_list)]\n",
    "    \n",
    "# 데이터 파일 저장\n",
    "insta_data = insta_data.reset_index(drop=True)\n",
    "insta_data.to_csv('./쌀밥_insta.txt', encoding='utf-8')"
   ]
  },
  {
   "cell_type": "code",
   "execution_count": null,
   "metadata": {},
   "outputs": [],
   "source": [
    "'''\n",
    "    잡곡밥 해시태그 크롤링 데이터 추가 전처리 및 저장\n",
    "        1. 사용자 아이디 열 제거\n",
    "        2. 결측치 데이터 제거 \n",
    "'''\n",
    "insta_data = pd.read_csv('./#잡곡밥_crawling.txt')\n",
    "insta_data.drop(['Unnamed: 0', '0'], axis='columns', inplace=True)\n",
    "\n",
    "# 데이터 전체가 결측치인 행 제거\n",
    "insta_data = insta_data.dropna(how='all')\n",
    "# insta_data = insta_data.reset_index(drop=True)\n",
    "\n",
    "# 결측치, 이상치 단어행 제거\n",
    "drop_list = ['영양사', '급식', '영양스타그램']\n",
    "\n",
    "for i in range(insta_data.shape[1]):\n",
    "    indexStr = str(i+1)\n",
    "    insta_data = insta_data[~insta_data[indexStr].isin(drop_list)]\n",
    "    \n",
    "# 데이터 파일 저장\n",
    "insta_data = insta_data.reset_index(drop=True)\n",
    "insta_data.to_csv('./잡곡밥_insta.txt', encoding='utf-8')"
   ]
  },
  {
   "cell_type": "code",
   "execution_count": 6,
   "metadata": {
    "scrolled": false
   },
   "outputs": [
    {
     "name": "stderr",
     "output_type": "stream",
     "text": [
      "C:\\Users\\Gyu Won Hong\\anaconda3\\lib\\site-packages\\konlpy\\tag\\_okt.py:16: UserWarning: \"Twitter\" has changed to \"Okt\" since KoNLPy v0.4.5.\n",
      "  warn('\"Twitter\" has changed to \"Okt\" since KoNLPy v0.4.5.')\n"
     ]
    },
    {
     "data": {
      "text/plain": [
       "{'밥': 3276,\n",
       " '잡곡': 2804,\n",
       " '그램': 2025,\n",
       " '식단': 1427,\n",
       " '스타': 1327,\n",
       " '볶음': 1173,\n",
       " '집밥': 1106,\n",
       " '도시락': 936,\n",
       " '다이어트': 718,\n",
       " '요리': 667,\n",
       " '밥상': 609,\n",
       " '점심': 523,\n",
       " '일상': 520,\n",
       " '저녁': 504,\n",
       " '반찬': 450,\n",
       " '김치': 441,\n",
       " '메뉴': 434,\n",
       " '아기': 431,\n",
       " '오늘': 417,\n",
       " '살': 365,\n",
       " '홈쿡': 350,\n",
       " '닭': 350,\n",
       " '구이': 329,\n",
       " '일기': 313,\n",
       " '유아식': 310,\n",
       " '샐러드': 296,\n",
       " '다이어터': 292,\n",
       " '가슴': 290,\n",
       " '다이어트식단': 288,\n",
       " '건강': 275,\n",
       " '감자': 273,\n",
       " '두부': 263,\n",
       " '소통': 249,\n",
       " '엄마': 245,\n",
       " '소고기': 243,\n",
       " '맛집': 242,\n",
       " '조림': 241,\n",
       " '국': 241,\n",
       " '맘': 240,\n",
       " '오이': 238,\n",
       " '유아': 220,\n",
       " '아침': 213,\n",
       " '멸치': 211,\n",
       " '직장인': 197,\n",
       " '계란': 193,\n",
       " '기록': 190,\n",
       " '맛스타': 187,\n",
       " '미역국': 186,\n",
       " '판': 185,\n",
       " '저녁밥': 182,\n",
       " '나물': 179,\n",
       " '맞팔': 178,\n",
       " '운동': 173,\n",
       " '콩나물': 169,\n",
       " '푸드': 168,\n",
       " '고추': 167,\n",
       " '육아': 163,\n",
       " '전': 161,\n",
       " '계란말이': 158,\n",
       " '불고기': 157,\n",
       " '야채': 156,\n",
       " '홈': 155,\n",
       " '공유': 153,\n",
       " '쌀': 152,\n",
       " '먹방': 150,\n",
       " '간식': 147,\n",
       " '된장찌개': 144,\n",
       " '식판': 144,\n",
       " '표': 143,\n",
       " '개월': 143,\n",
       " '주부': 142,\n",
       " '어묵': 142,\n",
       " '남편': 141,\n",
       " '햇반': 140,\n",
       " '깻잎': 139,\n",
       " '한식': 138,\n",
       " '버섯': 137,\n",
       " '오징어': 136,\n",
       " '끼': 136,\n",
       " '양배추': 136,\n",
       " '김': 134,\n",
       " '아이': 133,\n",
       " '호박': 131,\n",
       " '콩': 127,\n",
       " '집': 126,\n",
       " '아들': 126,\n",
       " '장조림': 126,\n",
       " '가지': 125,\n",
       " '쌈': 123,\n",
       " '배추김치': 120,\n",
       " '어린이': 120,\n",
       " '현미': 119,\n",
       " '그릇': 119,\n",
       " '양파': 118,\n",
       " '된장국': 117,\n",
       " '레시피': 116,\n",
       " '테이블': 115,\n",
       " '김치찌개': 114,\n",
       " '선팔': 112,\n",
       " '주말': 111}"
      ]
     },
     "execution_count": 6,
     "metadata": {},
     "output_type": "execute_result"
    }
   ],
   "source": [
    "# 1. 이전 포스트에서 크롤링한 댓글파일을 읽기전용으로 호출함\n",
    "file = open('./잡곡밥_insta.txt','r',encoding='utf-8')\n",
    "lines = file.readlines()\n",
    "\n",
    "# 2. 변수 letter에 전체댓글을 다시저장\n",
    "letter = []\n",
    "for line in lines:\n",
    "    letter.append(line)\n",
    "file.close()\n",
    "\n",
    "# 3. 트윗터 패키지 안에 konlpy 모듈호출\n",
    "twitter = Twitter()\n",
    "\n",
    "# 4. 각 문장별로 형태소 구분하기\n",
    "sentences_tag = []\n",
    "\n",
    "for sentence in letter:\n",
    "    morph = twitter.pos(sentence)\n",
    "    sentences_tag.append(morph)\n",
    "\n",
    "# 5. 명사 혹은 형용사인 품사만 선별해 리스트에 담기\n",
    "noun_adj_list = []\n",
    "\n",
    "for sentence1 in sentences_tag:\n",
    "    for word, tag in sentence1:\n",
    "        if tag in ['Noun','Adjective']:\n",
    "            noun_adj_list.append(word)\n",
    "            \n",
    "# 6. 선별된 품사별 빈도수 계산 & 상위 빈도 50위 까지 출력\n",
    "counts = Counter(noun_adj_list)\n",
    "words = dict(counts.most_common(100))\n",
    "words"
   ]
  },
  {
   "cell_type": "code",
   "execution_count": 19,
   "metadata": {},
   "outputs": [],
   "source": [
    "# 불필요 형태소 제거\n",
    "del words['그램']\n",
    "del words['스타']"
   ]
  },
  {
   "cell_type": "code",
   "execution_count": 17,
   "metadata": {},
   "outputs": [],
   "source": [
    "plt.rc('font',family = 'Malgun Gothic')\n",
    "set_matplotlib_formats('retina')\n",
    "plt.rc('axes',unicode_minus = False)"
   ]
  },
  {
   "cell_type": "code",
   "execution_count": 25,
   "metadata": {},
   "outputs": [
    {
     "data": {
      "image/png": "[encoded data removed]",
      "text/plain": [
       "<Figure size 432x288 with 1 Axes>"
      ]
     },
     "metadata": {
      "image/png": {
       "height": 231,
       "width": 340
      },
      "needs_background": "light"
     },
     "output_type": "display_data"
    }
   ],
   "source": [
    "wordcloud = WordCloud(font_path = 'C:/Windows/Fonts/malgun.ttf', background_color='white',colormap = \"Accent_r\",\n",
    "                      width=1500, height=1000).generate_from_frequencies(words)\n",
    "\n",
    "plt.imshow(wordcloud)\n",
    "plt.axis('off')\n",
    "plt.show()"
   ]
  },
  {
   "cell_type": "code",
   "execution_count": null,
   "metadata": {},
   "outputs": [],
   "source": [
    "# topic clustering\n",
    "lib1 = ['아기', '엄마', '아들', '유아', '이유식'] # 맘 관련\n",
    "lib2 = ['남편', '집밥'] # 집밥 \n",
    "lib3 = ['다이어트', '다이어터' '닭가슴', '다이어트식단', '두부', '샐러드',] # 다이어트"
   ]
  }
 ],
 "metadata": {
  "kernelspec": {
   "display_name": "Python 3",
   "language": "python",
   "name": "python3"
  },
  "language_info": {
   "codemirror_mode": {
    "name": "ipython",
    "version": 3
   },
   "file_extension": ".py",
   "mimetype": "text/x-python",
   "name": "python",
   "nbconvert_exporter": "python",
   "pygments_lexer": "ipython3",
   "version": "3.7.6"
  }
 },
 "nbformat": 4,
 "nbformat_minor": 4
}
